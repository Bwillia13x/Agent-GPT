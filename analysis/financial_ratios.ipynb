{
 "cells": [
  {
   "cell_type": "markdown",
   "metadata": {},
   "source": [
    "# Tesla Financial Analysis and Future Projections\n",
    "\n",
    "This notebook performs several quantitative analyses based on the Tesla case study. It includes:\n",
    "1. Reproduction of key financial exhibits (Exhibits 12-14).\n",
    "2. Calculation of updated financial ratios using hypothetical 2024 data.\n",
    "3. Modeling of battery cost decline.\n",
    "4. Simulation of Gross Margin for a hypothetical Gen 3 vehicle.\n",
    "\n",
    "All assumptions made during the analysis will be clearly documented."
   ]
  },
  {
   "cell_type": "markdown",
   "metadata": {},
   "source": [
    "## Setup and Library Imports"
   ]
  },
  {
   "cell_type": "code",
   "execution_count": null,
   "metadata": {},
   "outputs": [],
   "source": [
    "import pandas as pd\n",
    "import numpy as np\n",
    "import matplotlib.pyplot as plt\n",
    "import seaborn as sns\n",
    "import os\n",
    "\n",
    "# Ensure the 'fig' directory exists for saving charts\n",
    "if not os.path.exists('../fig'):\n",
    "    os.makedirs('../fig')\n",
    "\n",
    "sns.set_theme(style=\"whitegrid\")"
   ]
  },
  {
   "cell_type": "markdown",
   "metadata": {},
   "source": [
    "## Section 1: Reproducing Exhibits 12-14\n",
    "\n",
    "This section reproduces financial data and calculates key ratios for Tesla and BMW based on information likely found in Exhibits 12, 13, and 14 of the case study. The data is extracted from the case study context (specifically from pages 16-18 of the PDF corresponding to these exhibits)."
   ]
  },
  {
   "cell_type": "markdown",
   "metadata": {},
   "source": [
    "### Exhibit 12: Tesla Motors Income Statement (US$ thousands)"
   ]
  },
  {
   "cell_type": "code",
   "execution_count": null,
   "metadata": {},
   "outputs": [],
   "source": [
    "data_exhibit_12 = {\n",
    "    'Metric': ['Revenues', 'Cost of revenues', 'Gross profit', 'R&D', 'SG&A'],\n",
    "    'H1 2013': [966931, 770128, 196803, 107171, 107008],\n",
    "    '2012': [413256, 383189, 30067, 273978, 150372],\n",
    "    '2011': [204242, 142647, 61595, 208981, 104102],\n",
    "    '2010': [116744, 86013, 30731, 92996, 84573]\n",
    "}\n",
    "df_exhibit_12 = pd.DataFrame(data_exhibit_12).set_index('Metric')\n",
    "\n",
    "print(\"Exhibit 12: Tesla Motors Income Statement (US$ thousands)\\n\")\n",
    "print(df_exhibit_12)\n",
    "\n",
    "# Calculate Ratios for Tesla\n",
    "df_exhibit_12.loc['Gross Profit Margin (%)'] = (df_exhibit_12.loc['Gross profit'] / df_exhibit_12.loc['Revenues']) * 100\n",
    "df_exhibit_12.loc['R&D as % of Sales'] = (df_exhibit_12.loc['R&D'] / df_exhibit_12.loc['Revenues']) * 100\n",
    "\n",
    "print(\"\\nCalculated Ratios for Tesla (from Exhibit 12 data):\\n\")\n",
    "print(df_exhibit_12.loc[['Gross Profit Margin (%)', 'R&D as % of Sales']].round(2))"
   ]
  },
  {
   "cell_type": "markdown",
   "metadata": {},
   "source": [
    "**Assumption for H1 2013 Ratios:** The ratios for H1 2013 are based on the half-year data directly. For annualized comparisons, H1 2013 revenue would typically be doubled, but here we use the direct figures for margin calculations within that period."
   ]
  },
  {
   "cell_type": "markdown",
   "metadata": {},
   "source": [
    "### Exhibit 13: Tesla Motors Assets (US$ thousands)"
   ]
  },
  {
   "cell_type": "code",
   "execution_count": null,
   "metadata": {},
   "outputs": [],
   "source": [
    "data_exhibit_13 = {\n",
    "    'Metric': ['Total current assets', 'Property, plant and equipment, net', 'Total assets'],\n",
    "    'Jun-13': [1129542, 595579, 1887844],\n",
    "    'Dec-12': [524768, 552229, 1114190]\n",
    "}\n",
    "df_exhibit_13 = pd.DataFrame(data_exhibit_13).set_index('Metric')\n",
    "\n",
    "print(\"Exhibit 13: Tesla Motors Assets (US$ thousands)\\n\")\n",
    "print(df_exhibit_13)\n",
    "\n",
    "# Calculate Asset Turnover for Tesla\n",
    "# Assumption: For Jun-13, annualize H1 2013 revenue (H1_2013_Revenue * 2). For Dec-12, use 2012 full-year revenue.\n",
    "revenue_h1_2013_annualized = df_exhibit_12.loc['Revenues', 'H1 2013'] * 2\n",
    "revenue_2012 = df_exhibit_12.loc['Revenues', '2012']\n",
    "\n",
    "asset_turnover_jun_13 = revenue_h1_2013_annualized / df_exhibit_13.loc['Total assets', 'Jun-13']\n",
    "asset_turnover_dec_12 = revenue_2012 / df_exhibit_13.loc['Total assets', 'Dec-12']\n",
    "\n",
    "df_asset_turnover = pd.DataFrame({\n",
    "    'Period': ['Jun-13 (Annualized H1 Rev)', 'Dec-12 (FY Rev)'],\n",
    "    'Asset Turnover': [asset_turnover_jun_13, asset_turnover_dec_12]\n",
    "}).set_index('Period')\n",
    "\n",
    "print(\"\\nCalculated Asset Turnover for Tesla (from Exhibits 12 & 13 data):\\n\")\n",
    "print(df_asset_turnover.round(2))"
   ]
  },
  {
   "cell_type": "markdown",
   "metadata": {},
   "source": [
    "### Exhibit 14: BMW Group Income Statement (million Euros)"
   ]
  },
  {
   "cell_type": "code",
   "execution_count": null,
   "metadata": {},
   "outputs": [],
   "source": [
    "data_exhibit_14 = {\n",
    "    'Metric': ['Revenues', 'Cost of revenues', 'Gross profit', 'R&D'],\n",
    "    '2012': [57293, 40377, 16916, 3993],\n",
    "    '2011': [51306, 35653, 15653, 3610]\n",
    "}\n",
    "df_exhibit_14 = pd.DataFrame(data_exhibit_14).set_index('Metric')\n",
    "\n",
    "print(\"Exhibit 14: BMW Group Income Statement (million Euros)\\n\")\n",
    "print(df_exhibit_14)\n",
    "\n",
    "# Calculate Ratios for BMW\n",
    "df_exhibit_14.loc['Gross Profit Margin (%)'] = (df_exhibit_14.loc['Gross profit'] / df_exhibit_14.loc['Revenues']) * 100\n",
    "df_exhibit_14.loc['R&D as % of Sales'] = (df_exhibit_14.loc['R&D'] / df_exhibit_14.loc['Revenues']) * 100\n",
    "\n",
    "print(\"\\nCalculated Ratios for BMW (from Exhibit 14 data):\\n\")\n",
    "print(df_exhibit_14.loc[['Gross Profit Margin (%)', 'R&D as % of Sales']].round(2))"
   ]
  },
  {
   "cell_type": "markdown",
   "metadata": {},
   "source": [
    "## Section 2: Update Ratios using 2024 10-K Data\n",
    "\n",
    "**Important Note:** Actual 2024 10-K data for Tesla is not available within this case study's context. The following calculations are based on **hypothetical, illustrative data for 2024** to demonstrate the methodology. These figures are not actual financial results."
   ]
  },
  {
   "cell_type": "code",
   "execution_count": null,
   "metadata": {},
   "outputs": [],
   "source": [
    "# Hypothetical 2024 Data for Tesla (Illustrative)\n",
    "revenue_2024_hypothetical = 85000000  # $85 Billion\n",
    "cogs_2024_hypothetical = 68000000     # $68 Billion (implies 20% gross margin)\n",
    "rnd_2024_hypothetical = 5000000       # $5 Billion\n",
    "total_assets_2024_hypothetical = 100000000 # $100 Billion\n",
    "non_interest_bearing_cl_2024_hypothetical = 20000000 # $20 Billion\n",
    "\n",
    "# Calculations\n",
    "gross_profit_2024_hypothetical = revenue_2024_hypothetical - cogs_2024_hypothetical\n",
    "gross_margin_2024 = (gross_profit_2024_hypothetical / revenue_2024_hypothetical) * 100\n",
    "rnd_intensity_2024 = (rnd_2024_hypothetical / revenue_2024_hypothetical) * 100\n",
    "capital_employed_2024_hypothetical = total_assets_2024_hypothetical - non_interest_bearing_cl_2024_hypothetical\n",
    "capital_efficiency_2024 = revenue_2024_hypothetical / capital_employed_2024_hypothetical\n",
    "\n",
    "print(\"2024 Updated Ratios (Based on Hypothetical Data - US$ thousands where applicable):\\n\")\n",
    "print(f\"Hypothetical 2024 Revenue: ${revenue_2024_hypothetical:,.0f}\")\n",
    "print(f\"Hypothetical 2024 Gross Margin: {gross_margin_2024:.2f}%\")\n",
    "print(f\"Hypothetical 2024 R&D Intensity: {rnd_intensity_2024:.2f}%\")\n",
    "print(f\"Hypothetical 2024 Capital Employed: ${capital_employed_2024_hypothetical:,.0f}\")\n",
    "print(f\"Hypothetical 2024 Capital Efficiency (Revenue / Capital Employed): {capital_efficiency_2024:.2f}\")"
   ]
  },
  {
   "cell_type": "markdown",
   "metadata": {},
   "source": [
    "## Section 3: Model Battery Cost Decline\n",
    "\n",
    "This section models a 10% annual decline in battery costs over 10 years.\n",
    "**Assumption:** Baseline battery cost is $150/kWh in Year 0."
   ]
  },
  {
   "cell_type": "code",
   "execution_count": null,
   "metadata": {},
   "outputs": [],
   "source": [
    "baseline_battery_cost_per_kwh = 150  # $/kWh\n",
    "annual_decline_rate = 0.10\n",
    "years = 10\n",
    "\n",
    "battery_costs_over_time = []\n",
    "current_cost = baseline_battery_cost_per_kwh\n",
    "for year in range(years + 1):\n",
    "    battery_costs_over_time.append({'Year': year, 'Cost_per_kWh': current_cost})\n",
    "    current_cost *= (1 - annual_decline_rate)\n",
    "\n",
    "df_battery_cost = pd.DataFrame(battery_costs_over_time)\n",
    "\n",
    "print(\"Modeled Battery Cost Decline ($/kWh):\\n\")\n",
    "print(df_battery_cost)\n",
    "\n",
    "# Generate Chart\n",
    "plt.figure(figsize=(10, 6))\n",
    "sns.lineplot(x='Year', y='Cost_per_kWh', data=df_battery_cost, marker='o')\n",
    "plt.title('Modeled Battery Cost Decline (10% Annually)')\n",
    "plt.xlabel('Year')\n",
    "plt.ylabel('Cost per kWh ($)')\n",
    "plt.grid(True)\n",
    "plt.savefig('../fig/battery_cost_decline.png')\n",
    "plt.show()"
   ]
  },
  {
   "cell_type": "markdown",
   "metadata": {},
   "source": [
    "## Section 4: Simulate Gen 3 Gross Margin\n",
    "\n",
    "This section simulates the gross margin for a hypothetical Tesla Gen 3 vehicle, incorporating the battery cost decline model.\n",
    "\n",
    "**Assumptions:**\n",
    "*   Target Sale Price (ASP): $35,000 (from case study context, page 9 of PDF: \"Gen 3 model would be comparable to a BMW 3 and carry a price of about $35,000\")\n",
    "*   Non-battery Production Cost per unit: $18,000 (Major assumption, as this is not detailed in the case study for Gen 3)\n",
    "*   Battery Size: 60 kWh (Common size for mass-market EVs, assumption)\n",
    "*   Annual Production Volume: 250,000 units (Given in task, useful for total profit but margin is per unit)"
   ]
  },
  {
   "cell_type": "code",
   "execution_count": null,
   "metadata": {},
   "outputs": [],
   "source": [
    "gen3_asp = 35000  # $\n",
    "gen3_non_battery_cost_per_unit = 18000  # $\n",
    "gen3_battery_size_kwh = 60  # kWh\n",
    "\n",
    "df_gen3_simulation = df_battery_cost.copy()\n",
    "df_gen3_simulation['Battery Cost per Vehicle'] = df_gen3_simulation['Cost_per_kWh'] * gen3_battery_size_kwh\n",
    "df_gen3_simulation['Total Cost per Vehicle'] = gen3_non_battery_cost_per_unit + df_gen3_simulation['Battery Cost per Vehicle']\n",
    "df_gen3_simulation['Gross Profit per Vehicle'] = gen3_asp - df_gen3_simulation['Total Cost per Vehicle']\n",
    "df_gen3_simulation['Gross Margin (%)'] = (df_gen3_simulation['Gross Profit per Vehicle'] / gen3_asp) * 100\n",
    "\n",
    "print(\"Simulated Gen 3 Vehicle Financials Over Time (per unit):\\n\")\n",
    "print(df_gen3_simulation[['Year', 'Cost_per_kWh', 'Battery Cost per Vehicle', 'Total Cost per Vehicle', 'Gross Profit per Vehicle', 'Gross Margin (%)']].round(2))\n",
    "\n",
    "# Generate Chart for Gross Margin\n",
    "plt.figure(figsize=(10, 6))\n",
    "sns.lineplot(x='Year', y='Gross Margin (%)', data=df_gen3_simulation, marker='o')\n",
    "plt.title('Simulated Gen 3 Gross Margin Over Time (with Declining Battery Costs)')\n",
    "plt.xlabel('Year (from baseline battery cost)')\n",
    "plt.ylabel('Gross Margin (%)')\n",
    "plt.ylim(0, max(df_gen3_simulation['Gross Margin (%)']) * 1.1) # Ensure y-axis starts at 0\n",
    "plt.grid(True)\n",
    "plt.savefig('../fig/gen3_gross_margin_simulation.png')\n",
    "plt.show()"
   ]
  },
  {
   "cell_type": "markdown",
   "metadata": {},
   "source": [
    "## Section 5: Export Charts\n",
    "\n",
    "Charts generated in Sections 3 and 4 have been saved to the `../fig/` directory:\n",
    "*   `battery_cost_decline.png`\n",
    "*   `gen3_gross_margin_simulation.png`\n",
    "\n",
    "No specific charts were requested for the reproduction of Exhibits 12-14, which were presented as tables."
   ]
  },
  {
   "cell_type": "markdown",
   "metadata": {},
   "source": [
    "## Conclusion\n",
    "\n",
    "This notebook has performed the requested financial analyses, including reproducing historical exhibit data, calculating key ratios, modeling battery cost declines, and simulating potential gross margins for a future vehicle. All assumptions have been documented within each section. The generated charts have been saved to the `fig/` directory."
   ]
  }
 ],
 "metadata": {
  "kernelspec": {
   "display_name": "Python 3",
   "language": "python",
   "name": "python3"
  },
  "language_info": {
   "codemirror_mode": {
    "name": "ipython",
    "version": 3
   },
   "file_extension": ".py",
   "mimetype": "text/x-python",
   "name": "python",
   "nbconvert_exporter": "python",
   "pygments_lexer": "ipython3",
   "version": "3.10.12"
  }
 },
 "nbformat": 4,
 "nbformat_minor": 2
}
